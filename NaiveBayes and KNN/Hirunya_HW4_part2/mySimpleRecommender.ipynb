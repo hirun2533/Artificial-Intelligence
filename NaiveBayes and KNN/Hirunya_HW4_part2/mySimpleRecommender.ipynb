{
 "cells": [
  {
   "cell_type": "code",
   "execution_count": 1,
   "metadata": {},
   "outputs": [],
   "source": [
    "import pandas as pd\n",
    "import numpy as np\n",
    "import matplotlib.pyplot as plt\n",
    "%matplotlib inline"
   ]
  },
  {
   "cell_type": "code",
   "execution_count": 2,
   "metadata": {},
   "outputs": [],
   "source": [
    "\n",
    "dframe = pd.read_excel('knn-csc480-a4.xls', na_values=' ').set_index('Unnamed: 0')\n",
    "myTrain = dframe.loc['U1':'U20',:]\n",
    "myTest = dframe.loc['NU1':'NU5',:]"
   ]
  },
  {
   "cell_type": "code",
   "execution_count": 3,
   "metadata": {},
   "outputs": [
    {
     "data": {
      "text/html": [
       "<div>\n",
       "<style scoped>\n",
       "    .dataframe tbody tr th:only-of-type {\n",
       "        vertical-align: middle;\n",
       "    }\n",
       "\n",
       "    .dataframe tbody tr th {\n",
       "        vertical-align: top;\n",
       "    }\n",
       "\n",
       "    .dataframe thead th {\n",
       "        text-align: right;\n",
       "    }\n",
       "</style>\n",
       "<table border=\"1\" class=\"dataframe\">\n",
       "  <thead>\n",
       "    <tr style=\"text-align: right;\">\n",
       "      <th></th>\n",
       "      <th>TRUE BELIEVER</th>\n",
       "      <th>THE DA VINCI CODE</th>\n",
       "      <th>THE WORLD IS FLAT</th>\n",
       "      <th>MY LIFE SO FAR</th>\n",
       "      <th>THE TAKING</th>\n",
       "      <th>THE KITE RUNNER</th>\n",
       "      <th>RUNNY BABBIT</th>\n",
       "      <th>HARRY POTTER</th>\n",
       "    </tr>\n",
       "    <tr>\n",
       "      <th>Unnamed: 0</th>\n",
       "      <th></th>\n",
       "      <th></th>\n",
       "      <th></th>\n",
       "      <th></th>\n",
       "      <th></th>\n",
       "      <th></th>\n",
       "      <th></th>\n",
       "      <th></th>\n",
       "    </tr>\n",
       "  </thead>\n",
       "  <tbody>\n",
       "    <tr>\n",
       "      <th>U1</th>\n",
       "      <td>2.0</td>\n",
       "      <td>4.0</td>\n",
       "      <td>NaN</td>\n",
       "      <td>3.0</td>\n",
       "      <td>NaN</td>\n",
       "      <td>NaN</td>\n",
       "      <td>1.0</td>\n",
       "      <td>1.0</td>\n",
       "    </tr>\n",
       "    <tr>\n",
       "      <th>U2</th>\n",
       "      <td>NaN</td>\n",
       "      <td>5.0</td>\n",
       "      <td>NaN</td>\n",
       "      <td>NaN</td>\n",
       "      <td>3.0</td>\n",
       "      <td>2.0</td>\n",
       "      <td>1.0</td>\n",
       "      <td>NaN</td>\n",
       "    </tr>\n",
       "    <tr>\n",
       "      <th>U3</th>\n",
       "      <td>3.0</td>\n",
       "      <td>NaN</td>\n",
       "      <td>1.0</td>\n",
       "      <td>2.0</td>\n",
       "      <td>2.0</td>\n",
       "      <td>NaN</td>\n",
       "      <td>NaN</td>\n",
       "      <td>5.0</td>\n",
       "    </tr>\n",
       "    <tr>\n",
       "      <th>U4</th>\n",
       "      <td>NaN</td>\n",
       "      <td>3.0</td>\n",
       "      <td>NaN</td>\n",
       "      <td>NaN</td>\n",
       "      <td>4.0</td>\n",
       "      <td>1.0</td>\n",
       "      <td>NaN</td>\n",
       "      <td>3.0</td>\n",
       "    </tr>\n",
       "    <tr>\n",
       "      <th>U5</th>\n",
       "      <td>2.0</td>\n",
       "      <td>4.0</td>\n",
       "      <td>3.0</td>\n",
       "      <td>NaN</td>\n",
       "      <td>NaN</td>\n",
       "      <td>2.0</td>\n",
       "      <td>1.0</td>\n",
       "      <td>NaN</td>\n",
       "    </tr>\n",
       "  </tbody>\n",
       "</table>\n",
       "</div>"
      ],
      "text/plain": [
       "            TRUE BELIEVER  THE DA VINCI CODE  THE WORLD IS FLAT  \\\n",
       "Unnamed: 0                                                        \n",
       "U1                    2.0                4.0                NaN   \n",
       "U2                    NaN                5.0                NaN   \n",
       "U3                    3.0                NaN                1.0   \n",
       "U4                    NaN                3.0                NaN   \n",
       "U5                    2.0                4.0                3.0   \n",
       "\n",
       "            MY LIFE SO FAR  THE TAKING  THE KITE RUNNER  RUNNY BABBIT  \\\n",
       "Unnamed: 0                                                              \n",
       "U1                     3.0         NaN              NaN           1.0   \n",
       "U2                     NaN         3.0              2.0           1.0   \n",
       "U3                     2.0         2.0              NaN           NaN   \n",
       "U4                     NaN         4.0              1.0           NaN   \n",
       "U5                     NaN         NaN              2.0           1.0   \n",
       "\n",
       "            HARRY POTTER  \n",
       "Unnamed: 0                \n",
       "U1                   1.0  \n",
       "U2                   NaN  \n",
       "U3                   5.0  \n",
       "U4                   3.0  \n",
       "U5                   NaN  "
      ]
     },
     "execution_count": 3,
     "metadata": {},
     "output_type": "execute_result"
    }
   ],
   "source": [
    "myTrain.head()"
   ]
  },
  {
   "cell_type": "code",
   "execution_count": 4,
   "metadata": {},
   "outputs": [
    {
     "data": {
      "text/html": [
       "<div>\n",
       "<style scoped>\n",
       "    .dataframe tbody tr th:only-of-type {\n",
       "        vertical-align: middle;\n",
       "    }\n",
       "\n",
       "    .dataframe tbody tr th {\n",
       "        vertical-align: top;\n",
       "    }\n",
       "\n",
       "    .dataframe thead th {\n",
       "        text-align: right;\n",
       "    }\n",
       "</style>\n",
       "<table border=\"1\" class=\"dataframe\">\n",
       "  <thead>\n",
       "    <tr style=\"text-align: right;\">\n",
       "      <th></th>\n",
       "      <th>TRUE BELIEVER</th>\n",
       "      <th>THE DA VINCI CODE</th>\n",
       "      <th>THE WORLD IS FLAT</th>\n",
       "      <th>MY LIFE SO FAR</th>\n",
       "      <th>THE TAKING</th>\n",
       "      <th>THE KITE RUNNER</th>\n",
       "      <th>RUNNY BABBIT</th>\n",
       "      <th>HARRY POTTER</th>\n",
       "    </tr>\n",
       "    <tr>\n",
       "      <th>Unnamed: 0</th>\n",
       "      <th></th>\n",
       "      <th></th>\n",
       "      <th></th>\n",
       "      <th></th>\n",
       "      <th></th>\n",
       "      <th></th>\n",
       "      <th></th>\n",
       "      <th></th>\n",
       "    </tr>\n",
       "  </thead>\n",
       "  <tbody>\n",
       "    <tr>\n",
       "      <th>NU1</th>\n",
       "      <td>4.0</td>\n",
       "      <td>NaN</td>\n",
       "      <td>5.0</td>\n",
       "      <td>3.0</td>\n",
       "      <td>2.0</td>\n",
       "      <td>3.0</td>\n",
       "      <td>NaN</td>\n",
       "      <td>4.0</td>\n",
       "    </tr>\n",
       "    <tr>\n",
       "      <th>NU2</th>\n",
       "      <td>NaN</td>\n",
       "      <td>5.0</td>\n",
       "      <td>2.0</td>\n",
       "      <td>5.0</td>\n",
       "      <td>3.0</td>\n",
       "      <td>NaN</td>\n",
       "      <td>2.0</td>\n",
       "      <td>NaN</td>\n",
       "    </tr>\n",
       "    <tr>\n",
       "      <th>NU3</th>\n",
       "      <td>2.0</td>\n",
       "      <td>1.0</td>\n",
       "      <td>NaN</td>\n",
       "      <td>NaN</td>\n",
       "      <td>2.0</td>\n",
       "      <td>3.0</td>\n",
       "      <td>4.0</td>\n",
       "      <td>1.0</td>\n",
       "    </tr>\n",
       "    <tr>\n",
       "      <th>NU4</th>\n",
       "      <td>3.0</td>\n",
       "      <td>5.0</td>\n",
       "      <td>1.0</td>\n",
       "      <td>1.0</td>\n",
       "      <td>NaN</td>\n",
       "      <td>1.0</td>\n",
       "      <td>NaN</td>\n",
       "      <td>3.0</td>\n",
       "    </tr>\n",
       "    <tr>\n",
       "      <th>NU5</th>\n",
       "      <td>NaN</td>\n",
       "      <td>2.0</td>\n",
       "      <td>3.0</td>\n",
       "      <td>2.0</td>\n",
       "      <td>1.0</td>\n",
       "      <td>NaN</td>\n",
       "      <td>3.0</td>\n",
       "      <td>NaN</td>\n",
       "    </tr>\n",
       "  </tbody>\n",
       "</table>\n",
       "</div>"
      ],
      "text/plain": [
       "            TRUE BELIEVER  THE DA VINCI CODE  THE WORLD IS FLAT  \\\n",
       "Unnamed: 0                                                        \n",
       "NU1                   4.0                NaN                5.0   \n",
       "NU2                   NaN                5.0                2.0   \n",
       "NU3                   2.0                1.0                NaN   \n",
       "NU4                   3.0                5.0                1.0   \n",
       "NU5                   NaN                2.0                3.0   \n",
       "\n",
       "            MY LIFE SO FAR  THE TAKING  THE KITE RUNNER  RUNNY BABBIT  \\\n",
       "Unnamed: 0                                                              \n",
       "NU1                    3.0         2.0              3.0           NaN   \n",
       "NU2                    5.0         3.0              NaN           2.0   \n",
       "NU3                    NaN         2.0              3.0           4.0   \n",
       "NU4                    1.0         NaN              1.0           NaN   \n",
       "NU5                    2.0         1.0              NaN           3.0   \n",
       "\n",
       "            HARRY POTTER  \n",
       "Unnamed: 0                \n",
       "NU1                  4.0  \n",
       "NU2                  NaN  \n",
       "NU3                  1.0  \n",
       "NU4                  3.0  \n",
       "NU5                  NaN  "
      ]
     },
     "execution_count": 4,
     "metadata": {},
     "output_type": "execute_result"
    }
   ],
   "source": [
    "myTest.head()"
   ]
  },
  {
   "cell_type": "code",
   "execution_count": 5,
   "metadata": {},
   "outputs": [],
   "source": [
    "def myPredictRating(myTrain, myTestRow, myCol, k):\n",
    "    myTrainValid = myTrain.dropna(subset=[myCol])\n",
    "    myTrainMat = myTrainValid.drop(columns = myCol).fillna(0).values \n",
    "    myTestMat = myTestRow.drop(columns = myCol).fillna(0).values       \n",
    "\n",
    "    myCorrs = np.zeros(myTrainMat.shape[0])\n",
    "    for i in range(myTrainMat.shape[0]):                        \n",
    "        myCorrs[i] = correlation(myTrainMat[i], myTestMat)    \n",
    "\n",
    "    myTopk = np.argsort(-myCorrs)[:k]                           \n",
    "    ratings = myTrainValid[myCol].iloc[myTopk].values         \n",
    "    sims = myCorrs[myTopk]                                     \n",
    " \n",
    "    prediction = np.sum(sims*ratings)/np.sum(sims)             \n",
    "    \n",
    "    return prediction                                           "
   ]
  },
  {
   "cell_type": "code",
   "execution_count": 6,
   "metadata": {},
   "outputs": [],
   "source": [
    "def correlation(X, Y): \n",
    "    mysumX = 0      \n",
    "    mysumY = 0     \n",
    "    mysumXY = 0   \n",
    "    mysqrSumX = 0   \n",
    "    mysqrSumY = 0  \n",
    "    tempN = len(X)           \n",
    "    for i in range(tempN):   \n",
    "         \n",
    "        mysumX = mysumX + X[i]  \n",
    "        mysumY = mysumY + Y[i]  \n",
    "        mysumXY = mysumXY + X[i] * Y[i] \n",
    "        mysqrSumX = mysqrSumX + X[i] * X[i] \n",
    "        mysqrSumY = mysqrSumY + Y[i] * Y[i]  \n",
    "                 \n",
    "     \n",
    "    mycorr = (tempN * mysumXY - mysumX * mysumY)/(np.sqrt((tempN * mysqrSumX - mysumX * mysumX)* \n",
    "            (tempN * mysqrSumY - mysumY * mysumY))) \n",
    "    return mycorr       "
   ]
  },
  {
   "cell_type": "code",
   "execution_count": 7,
   "metadata": {},
   "outputs": [],
   "source": [
    "def myMaeCalculation(myTrain, myTest, k):\n",
    "    errors = []                                                             \n",
    "    for user in ['NU1', 'NU2', 'NU3', 'NU4', 'NU5']:                     \n",
    "        myTestRow = myTest.loc[user,:]                                    \n",
    "        myRatedColumns = myTestRow.dropna().index                       \n",
    "        for myCol in myRatedColumns:                                        \n",
    "            myPrediction = myPredictRating(myTrain, myTestRow, myCol, k)   \n",
    "            errors.append(myPrediction - myTestRow[myCol])                 \n",
    "    return np.mean(np.abs(np.array(errors)))                                "
   ]
  },
  {
   "cell_type": "code",
   "execution_count": 8,
   "metadata": {},
   "outputs": [
    {
     "name": "stdout",
     "output_type": "stream",
     "text": [
      "Mean Absolute Error with k = 3 on the Test Set: 1.3780007890292134\n"
     ]
    }
   ],
   "source": [
    "myErr = myMaeCalculation(myTrain, myTest, 3)                    \n",
    "print('Mean Absolute Error with k = 3 on the Test Set:', myErr) "
   ]
  },
  {
   "cell_type": "code",
   "execution_count": 9,
   "metadata": {},
   "outputs": [
    {
     "name": "stdout",
     "output_type": "stream",
     "text": [
      "K     MAE \n",
      "1     1.8571\n",
      "2     1.4129\n",
      "3     1.3780\n",
      "4     1.3687\n",
      "5     1.4287\n",
      "6     2.4596\n",
      "7     1.2032\n",
      "8     1.1928\n",
      "9     1.2833\n",
      "10    1.8248\n",
      "11    1.4125\n",
      "12    2.0201\n",
      "13    2.5155\n",
      "14    3.0059\n",
      "15    2.1755\n",
      "16    2.1338\n",
      "17    2.1338\n",
      "18    2.1338\n",
      "19    2.1338\n",
      "20    2.1338\n"
     ]
    }
   ],
   "source": [
    "print('{0:5s} {1:4s}'.format('K', 'MAE'))         \n",
    "errors = []                                       \n",
    "for k in range(1, 21):                              \n",
    "    myErr = myMaeCalculation(myTrain, myTest, k)    \n",
    "    errors.append(myErr)                           \n",
    "    print('{0:<5d} {1:.4f}'.format(k, myErr))      "
   ]
  },
  {
   "cell_type": "code",
   "execution_count": 10,
   "metadata": {},
   "outputs": [
    {
     "data": {
      "image/png": "[encoded data removed]",
      "text/plain": [
       "<Figure size 432x288 with 1 Axes>"
      ]
     },
     "metadata": {
      "needs_background": "light"
     },
     "output_type": "display_data"
    }
   ],
   "source": [
    "neighbors = np.array(range(1,21))  \n",
    "plt.plot(neighbors, errors, marker='o') \n",
    "plt.plot(neighbors[np.argmin(errors)],errors[np.argmin(errors)], color='red', marker='o' ); \n",
    "plt.xlabel('Number of Neighbors') \n",
    "plt.ylabel('Mean Absolute Error'); "
   ]
  },
  {
   "cell_type": "code",
   "execution_count": 11,
   "metadata": {},
   "outputs": [
    {
     "name": "stdout",
     "output_type": "stream",
     "text": [
      "User  Item                 Rating\n",
      "NU1   THE DA VINCI CODE    4.235\n",
      "NU1   RUNNY BABBIT         2.280\n",
      "NU2   TRUE BELIEVER        3.591\n",
      "NU2   THE KITE RUNNER      2.892\n",
      "NU2   HARRY POTTER         3.213\n"
     ]
    }
   ],
   "source": [
    "print('{0:5s} {1:20s} {2:4s}'.format('User', 'Item', 'Rating'))  \n",
    "for user in ['NU1', 'NU2']:                                     \n",
    "    myTestRow = myTest.loc[user,:]                              \n",
    "    myItems = myTestRow.index[myTestRow.isna()]                 \n",
    "    for myCol in myItems:                                        \n",
    "        myPrediction = myPredictRating(myTrain, myTestRow, myCol, 8)         \n",
    "        print('{0:<5s} {1:<20s} {2:4.3f}'.format(user, myCol, myPrediction)) "
   ]
  },
  {
   "cell_type": "code",
   "execution_count": 12,
   "metadata": {},
   "outputs": [],
   "source": [
    "def myTop3Recommendation(myTrain, user, k, top3):\n",
    "    myTestRow = myTrain.loc[user,:]              \n",
    "    myTrainExcluded = myTrain.drop(index=user)    \n",
    "    myItems = myTestRow.index[myTestRow.isna()]   \n",
    "    myRating = []                                \n",
    "    for myCol in myItems:                        \n",
    "        myRating.append(myPredictRating(myTrainExcluded, myTestRow, myCol, k))\n",
    "    \n",
    "    myRes = pd.DataFrame({'user': user, 'item': myItems, 'Rating': myRating}).sort_values('Rating', ascending=False) \n",
    "    return myRes.head(top3)"
   ]
  },
  {
   "cell_type": "code",
   "execution_count": 13,
   "metadata": {},
   "outputs": [
    {
     "name": "stdout",
     "output_type": "stream",
     "text": [
      "  user               item    Rating\n",
      "0   U2      TRUE BELIEVER  3.684472\n",
      "1   U2       HARRY POTTER  3.198937\n",
      "2   U2     MY LIFE SO FAR  2.095882\n",
      "3   U5       HARRY POTTER  3.353351\n",
      "4   U5     MY LIFE SO FAR  2.833172\n",
      "5   U5         THE TAKING  2.026535\n",
      "6  U13  THE DA VINCI CODE  4.069623\n",
      "7  U13     MY LIFE SO FAR  2.458282\n",
      "8  U13      TRUE BELIEVER  2.386469\n",
      "9  U20       RUNNY BABBIT  1.435983\n"
     ]
    }
   ],
   "source": [
    "generate = []                               \n",
    "for user in ['U2', 'U5', 'U13', 'U20']:     \n",
    "    generate.append(myTop3Recommendation(myTrain, user, 4, 3))  \n",
    "generate = pd.concat(generate).reset_index(drop=True)              \n",
    "print(generate)                                                 "
   ]
  }
 ],
 "metadata": {
  "kernelspec": {
   "display_name": "Python 3",
   "language": "python",
   "name": "python3"
  },
  "language_info": {
   "codemirror_mode": {
    "name": "ipython",
    "version": 3
   },
   "file_extension": ".py",
   "mimetype": "text/x-python",
   "name": "python",
   "nbconvert_exporter": "python",
   "pygments_lexer": "ipython3",
   "version": "3.8.3"
  }
 },
 "nbformat": 4,
 "nbformat_minor": 4
}
